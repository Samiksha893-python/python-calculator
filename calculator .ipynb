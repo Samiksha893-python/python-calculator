{
  "nbformat": 4,
  "nbformat_minor": 0,
  "metadata": {
    "colab": {
      "provenance": []
    },
    "kernelspec": {
      "name": "python3",
      "display_name": "Python 3"
    },
    "language_info": {
      "name": "python"
    }
  },
  "cells": [
    {
      "cell_type": "markdown",
      "source": [
        "# Using Python to build a simple calaculator."
      ],
      "metadata": {
        "id": "pm_G6gHK0W3V"
      }
    },
    {
      "cell_type": "markdown",
      "source": [
        "using (operations = additional, substractional, divisional, muliplicational, average)\n",
        "\n",
        " #Three step used\n",
        "\n",
        " *Function for operations\n",
        "\n",
        " *User inputs\n",
        "\n",
        " *print Results"
      ],
      "metadata": {
        "id": "joetdkxU0kd5"
      }
    },
    {
      "cell_type": "markdown",
      "source": [
        "**Used Functions**"
      ],
      "metadata": {
        "id": "IgT7zJdp1PY3"
      }
    },
    {
      "cell_type": "code",
      "execution_count": 1,
      "metadata": {
        "id": "szkT5Hv_wSVZ"
      },
      "outputs": [],
      "source": [
        "def addition (a, b):\n",
        "  return a + b\n",
        "\n",
        "def substraction (a, b):\n",
        "  return a - b\n",
        "\n",
        "def multiplication (a, b):\n",
        "  return a * b\n",
        "\n",
        "def division (a, b):\n",
        "  return a / b\n",
        "\n",
        "def average (a, b):\n",
        "    return (a + b)/2"
      ]
    },
    {
      "cell_type": "markdown",
      "source": [
        "**Used user input and print results**"
      ],
      "metadata": {
        "id": "v4ZGKdOJ1bWO"
      }
    },
    {
      "cell_type": "code",
      "source": [
        "while True:\n",
        "  print(\"select a operation:\\n\" \\\n",
        "        \"1. Additional\\n\"\\\n",
        "        \"2. Substraction\\n\"\\\n",
        "        \"3. Multiplication\\n\"\\\n",
        "        \"4. Division\\n\"\\\n",
        "        \"5. Average\\n\")\n",
        "  Select = int(input(\"Select operation:\"))\n",
        "  a = int(input(\"Enter first number:\"))\n",
        "  b = int(input(\"Enter second number:\"))\n",
        "  if Select == 1:\n",
        "    print(a, \"+\", b, \"=\", addition(a, b))\n",
        "  elif Select == 2:\n",
        "    print(a, \"-\", b, \"=\", substraction(a, b))\n",
        "  elif Select == 3:\n",
        "    print(a, \"*\", b, \"=\", multiplication(a, b))\n",
        "  elif select == 4:\n",
        "    print(a, \"/\", b, \"=\", division(a, b))\n",
        "  elif select == 5:\n",
        "    print(a, \"+\", b, \"=\", average(a, b))\n",
        "  else:\n",
        "    print(\"Invalid input\")\n",
        "  print(\"Do you run again? (yes/no)\")\n",
        "  run_again = input()\n",
        "  if run_again != \"yes\":\n",
        "    break\n",
        "print(\"Thank you\")"
      ],
      "metadata": {
        "colab": {
          "base_uri": "https://localhost:8080/"
        },
        "id": "l50mD7f4xzcP",
        "outputId": "fcf21067-f95c-4d34-fa08-aaed44314637"
      },
      "execution_count": 6,
      "outputs": [
        {
          "output_type": "stream",
          "name": "stdout",
          "text": [
            "select a operation:\n",
            "1. Additional\n",
            "2. Substraction\n",
            "3. Multiplication\n",
            "4. Division\n",
            "5. Average\n",
            "\n",
            "Select operation:1\n",
            "Enter first number:23\n",
            "Enter second number:2\n",
            "23 + 2 = 25\n",
            "Do you run again? (yes/no)\n",
            "no\n",
            "Thank you\n"
          ]
        }
      ]
    },
    {
      "cell_type": "code",
      "source": [],
      "metadata": {
        "id": "p2BAVi8Syqy6"
      },
      "execution_count": 6,
      "outputs": []
    }
  ]
}